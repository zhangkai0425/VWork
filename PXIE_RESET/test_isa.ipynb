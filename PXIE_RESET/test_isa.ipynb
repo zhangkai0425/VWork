{
 "cells": [
  {
   "cell_type": "code",
   "execution_count": 13,
   "metadata": {},
   "outputs": [
    {
     "name": "stdout",
     "output_type": "stream",
     "text": [
      "['004001b7', '7c01a073', 'a0736189', '01933001']\n",
      "PXIE_DATA =  01933001a07361897c01a073004001b7\n"
     ]
    }
   ],
   "source": [
    "isa_data = []\n",
    "with open('isa.txt', 'r') as f:\n",
    "    lines = f.readlines()    # 将文件内容逐行读取到列表lines中\n",
    "    for line in lines:\n",
    "        inst = line.split(' ')\n",
    "        new_inst = [i for i in inst if i.strip()]\n",
    "        rdata = [   new_inst[3][6:8]+new_inst[3][4:6]+new_inst[3][2:4]+new_inst[3][0:2],\n",
    "                    new_inst[2][6:8]+new_inst[2][4:6]+new_inst[2][2:4]+new_inst[2][0:2],\n",
    "                    new_inst[1][6:8]+new_inst[1][4:6]+new_inst[1][2:4]+new_inst[1][0:2],\n",
    "                    new_inst[0][6:8]+new_inst[0][4:6]+new_inst[0][2:4]+new_inst[0][0:2],\n",
    "                ]\n",
    "        isa_data.append(rdata[3])\n",
    "        isa_data.append(rdata[2])\n",
    "        isa_data.append(rdata[1])\n",
    "        isa_data.append(rdata[0])\n",
    "        print(isa_data)  # 删除每行前后的空格和换行符，并打印出来\n",
    "PXIE_data = isa_data[3]+isa_data[2]+isa_data[1]+isa_data[0]\n",
    "print(\"PXIE_DATA = \",PXIE_data)\n"
   ]
  }
 ],
 "metadata": {
  "kernelspec": {
   "display_name": "pytorch2021",
   "language": "python",
   "name": "python3"
  },
  "language_info": {
   "codemirror_mode": {
    "name": "ipython",
    "version": 3
   },
   "file_extension": ".py",
   "mimetype": "text/x-python",
   "name": "python",
   "nbconvert_exporter": "python",
   "pygments_lexer": "ipython3",
   "version": "3.7.9"
  },
  "orig_nbformat": 4,
  "vscode": {
   "interpreter": {
    "hash": "1f14ea3905f811c5dc867a5bd7a785ecd2b03a32bdcbcba0902e8c5a93d2285c"
   }
  }
 },
 "nbformat": 4,
 "nbformat_minor": 2
}
